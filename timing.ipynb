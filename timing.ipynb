{
 "cells": [
  {
   "cell_type": "code",
   "execution_count": 67,
   "metadata": {},
   "outputs": [],
   "source": [
    "import numpy as np\n",
    "import seaborn as sns\n",
    "from feature_extractor import FeatureExtractor\n",
    "from PIL import Image\n",
    "import time\n",
    "from pathlib import Path \n",
    "import os \n",
    "import matplotlib.pyplot as plt"
   ]
  },
  {
   "cell_type": "code",
   "execution_count": 68,
   "metadata": {},
   "outputs": [
    {
     "name": "stderr",
     "output_type": "stream",
     "text": [
      "Using cache found in C:\\Users\\juanm/.cache\\torch\\hub\\pytorch_vision_v0.10.0\n"
     ]
    }
   ],
   "source": [
    "fe = FeatureExtractor() "
   ]
  },
  {
   "cell_type": "markdown",
   "metadata": {},
   "source": [
    "## Loading time"
   ]
  },
  {
   "cell_type": "code",
   "execution_count": 69,
   "metadata": {},
   "outputs": [],
   "source": [
    "scale = [1, 10, 100, 1000, 10000]\n",
    "times = []\n",
    "paths = [x for x in Path(os.path.join('static', 'feature')).glob('*.npy')]\n",
    "\n",
    "for s in scale:\n",
    "    start_time = time.time()\n",
    "    features = [] \n",
    "    img_paths = []\n",
    "    for i in range(s):\n",
    "        for feature_path in paths:\n",
    "            features.append(np.load(feature_path)) \n",
    "            img_paths.append(Path(\"./static/img\") / (feature_path.stem + \".jpg\"))\n",
    "    features = np.array(features)\n",
    "    \n",
    "    times.append(time.time() - start_time)\n",
    "    features = features.squeeze(axis=1)"
   ]
  },
  {
   "cell_type": "markdown",
   "metadata": {},
   "source": [
    "#### for ~20k images it is expected a loading time of: ~ 10 sec."
   ]
  },
  {
   "cell_type": "code",
   "execution_count": 72,
   "metadata": {},
   "outputs": [
    {
     "name": "stdout",
     "output_type": "stream",
     "text": [
      "10.629500389099121 secs\n"
     ]
    }
   ],
   "source": [
    "print((times[-1]/(8*scale[-1]))*20000, 'secs')"
   ]
  },
  {
   "cell_type": "markdown",
   "metadata": {},
   "source": [
    "## query time"
   ]
  },
  {
   "cell_type": "code",
   "execution_count": 73,
   "metadata": {},
   "outputs": [],
   "source": [
    "scale = [1, 10, 100, 1000, 10000]\n",
    "qtimes = []\n",
    "paths = [x for x in Path(os.path.join('static', 'feature')).glob('*.npy')]\n",
    "\n",
    "for s in scale:\n",
    "    features = [] \n",
    "    img_paths = []\n",
    "    for i in range(s):\n",
    "        for feature_path in paths:\n",
    "            features.append(np.load(feature_path)) \n",
    "            img_paths.append(Path(\"./static/img\") / (feature_path.stem + \".jpg\"))\n",
    "    features = np.array(features)\n",
    "    \n",
    "    start_time = time.time()\n",
    "    request_path = os.path.join('static','img', 'a1.jpg')\n",
    "    img=Image.open(request_path).convert('RGB')\n",
    "    query = fe.extract(img)\n",
    "    query = query.numpy()\n",
    "    query = np.expand_dims(query, axis=0)\n",
    "\n",
    "    dists = np.linalg.norm(features-query, axis=2)\n",
    "    dists = np.squeeze(dists, axis=1)\n",
    "\n",
    "    ids = np.argsort(dists, axis=0)\n",
    "    scores = [(dists[id], img_paths[id]) for id in ids]\n",
    "\n",
    "    qtimes.append(time.time() - start_time)"
   ]
  },
  {
   "cell_type": "markdown",
   "metadata": {},
   "source": [
    "#### for ~20k images it is expected a query time of: ~ 0.2 secs"
   ]
  },
  {
   "cell_type": "code",
   "execution_count": 79,
   "metadata": {},
   "outputs": [
    {
     "name": "stdout",
     "output_type": "stream",
     "text": [
      "0.23600751161575317 secs\n"
     ]
    }
   ],
   "source": [
    "print((qtimes[-1]/(8*scale[-1]))*20000, 'secs')"
   ]
  }
 ],
 "metadata": {
  "interpreter": {
   "hash": "98c16faf341c729920bfcd9a1b4b6c96ff11861ad8da40525c4225207ae661bc"
  },
  "kernelspec": {
   "display_name": "Python 3.7.9 64-bit",
   "language": "python",
   "name": "python3"
  },
  "language_info": {
   "codemirror_mode": {
    "name": "ipython",
    "version": 3
   },
   "file_extension": ".py",
   "mimetype": "text/x-python",
   "name": "python",
   "nbconvert_exporter": "python",
   "pygments_lexer": "ipython3",
   "version": "3.7.9"
  },
  "orig_nbformat": 4
 },
 "nbformat": 4,
 "nbformat_minor": 2
}
